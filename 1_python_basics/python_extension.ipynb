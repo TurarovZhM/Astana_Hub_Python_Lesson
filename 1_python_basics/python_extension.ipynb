{
 "cells": [
  {
   "cell_type": "markdown",
   "metadata": {
    "colab_type": "text",
    "id": "Stge820q2d1d"
   },
   "source": [
    "<h2 style=\"text-align: center;\"><b>Python. Занятие 1: Дополнение</b></h2>"
   ]
  },
  {
   "cell_type": "markdown",
   "metadata": {
    "colab_type": "text",
    "id": "7XQ42g-z2d1j"
   },
   "source": [
    "<img align=left src=\"https://cdn.fedoramagazine.org/wp-content/uploads/2015/11/Python_logo.png\" style=\"height:160px;\" />\n",
    "\n",
    "<img align=center src=\"https://1.bp.blogspot.com/-16utHnlB3Ao/V4tpG8NBX0I/AAAAAAAAA7M/vDQ1p40JpE8M34eCr-UdriSV04Dn8au7QCLcB/s1600/jupyter-logo.png\" style=\"height:90px;\" />"
   ]
  },
  {
   "cell_type": "markdown",
   "metadata": {
    "colab_type": "text",
    "id": "l8V2fdfy2d1m"
   },
   "source": [
    "Этот ноутбук -- дополнение к python_basics.ipynb. Здесь разобраны некоторые полезные конструкции и функции языка Python. Опять же, ноутбук не претендует на охват всех возможностей языка!"
   ]
  },
  {
   "cell_type": "markdown",
   "metadata": {
    "colab_type": "text",
    "id": "s6H55PRg2d1p"
   },
   "source": [
    "### list comprehensions"
   ]
  },
  {
   "cell_type": "markdown",
   "metadata": {
    "colab_type": "text",
    "id": "81c3upgh2d1t"
   },
   "source": [
    "Давайте зададимся вопросом: как создать массив с числами от 1 до 100, которые делятся на 5?\n",
    "\n",
    "* Решение 1:\n",
    "\n",
    "```\n",
    "mas = []\n",
    "for i in range(100):\n",
    "    if i % 5 == 0:\n",
    "        mas.append(i)\n",
    "```\n",
    "\n",
    "Это довольно долго писать и в коде выглядит некомпактно.\n",
    "\n",
    "* Решение 2:"
   ]
  },
  {
   "cell_type": "code",
   "execution_count": 4,
   "metadata": {
    "colab": {},
    "colab_type": "code",
    "id": "nd6jZWAl2d1v"
   },
   "outputs": [
    {
     "data": {
      "text/plain": [
       "[0, 5, 10, 15, 20, 25, 30, 35, 40, 45, 50, 55, 60, 65, 70, 75, 80, 85, 90, 95]"
      ]
     },
     "execution_count": 4,
     "metadata": {},
     "output_type": "execute_result"
    }
   ],
   "source": [
    "mas = [x for x in range(100) if x%5==0]\n",
    "mas"
   ]
  },
  {
   "cell_type": "markdown",
   "metadata": {
    "colab_type": "text",
    "id": "MUL5tuNP2d10"
   },
   "source": [
    "Здесь код записан так, что его можно легко можно прочитать на естественном языке: \n",
    "\n",
    "\" положи в массив mas такие числа х из отрезка [0, 100], что х делится на 5\""
   ]
  },
  {
   "cell_type": "markdown",
   "metadata": {
    "colab_type": "text",
    "id": "m1vuSXH_2d12"
   },
   "source": [
    "Таким же образом можно записывать в питоне многие другие конструкции такого типа. Вот примеры еще нескольких:"
   ]
  },
  {
   "cell_type": "code",
   "execution_count": 5,
   "metadata": {
    "colab": {},
    "colab_type": "code",
    "id": "b0Keh_lR2d13"
   },
   "outputs": [
    {
     "name": "stdout",
     "output_type": "stream",
     "text": [
      "[0, 1, 4, 9, 16, 25, 36, 49, 64, 81]\n",
      "['even', 'odd', 'even', 'odd', 'even', 'odd', 'even', 'odd', 'even', 'odd']\n"
     ]
    }
   ],
   "source": [
    "# массив квадратов чисел от 0 до 9\n",
    "mas = [x**2 for x in range(10)]\n",
    "print(mas)\n",
    "\n",
    "# массив, на нечетных индексах которого находятся слова \"odd\", а четных -- \"even\"\n",
    "mas = [\"odd\" if x%2==1 else \"even\" for x in range(10)]\n",
    "print(mas)"
   ]
  },
  {
   "cell_type": "markdown",
   "metadata": {
    "colab_type": "text",
    "id": "1dN6iNkD2d17"
   },
   "source": [
    "Так же можно создавать словари:"
   ]
  },
  {
   "cell_type": "code",
   "execution_count": 6,
   "metadata": {
    "colab": {},
    "colab_type": "code",
    "id": "EVl9tRRU2d19"
   },
   "outputs": [
    {
     "data": {
      "text/plain": [
       "{'zero': 0, 'first': 1, 'second': 2}"
      ]
     },
     "execution_count": 6,
     "metadata": {},
     "output_type": "execute_result"
    }
   ],
   "source": [
    "d = {word: i for i, word in enumerate([\"zero\", \"first\", \"second\"])}\n",
    "d"
   ]
  },
  {
   "cell_type": "markdown",
   "metadata": {
    "colab_type": "text",
    "id": "6gAv4fNm2d2B"
   },
   "source": [
    "### Задание 1\n",
    "\n",
    "Пусть есть массив mas. С помощью list comprehensions создайте второй массив, где на четных индексах будут находиться соответствующие элементы массива mas, умноженные на 10, а на нечетных индексах -- единицы\n",
    "\n"
   ]
  },
  {
   "cell_type": "code",
   "execution_count": 7,
   "metadata": {
    "colab": {},
    "colab_type": "code",
    "id": "zkMjCQtL2d2C"
   },
   "outputs": [
    {
     "name": "stdout",
     "output_type": "stream",
     "text": [
      "[1, 20, 1, 40, 1]\n"
     ]
    }
   ],
   "source": [
    "# your code here\n",
    "mas = [1, 2, 3, 4, 5]\n",
    "mas2 = [x * 10 if x%2 == 0 else 1 for i, x in enumerate(mas)]\n",
    "print(mas2)"
   ]
  },
  {
   "cell_type": "markdown",
   "metadata": {
    "colab_type": "text",
    "id": "EvsoTGB72d2E"
   },
   "source": [
    "---------------"
   ]
  },
  {
   "cell_type": "markdown",
   "metadata": {
    "colab_type": "text",
    "id": "N6Ns0rB52d2F"
   },
   "source": [
    "### functions, lambdas"
   ]
  },
  {
   "cell_type": "markdown",
   "metadata": {
    "colab_type": "text",
    "id": "MnASYznX2d2G"
   },
   "source": [
    "**функции**"
   ]
  },
  {
   "cell_type": "markdown",
   "metadata": {
    "colab_type": "text",
    "id": "MtrFRSQA2d2H"
   },
   "source": [
    "Это такие объекты в питоне, которые принимают некоторые параметры (переменные), исполняют некоторый код внутри себя и, возможно, возвращают некоторое значение. "
   ]
  },
  {
   "cell_type": "markdown",
   "metadata": {
    "colab_type": "text",
    "id": "-3PhpyuG2d2L"
   },
   "source": [
    "Чтобы определить функцию, нужно написать ключевое слово `def`, далее название функции и в круглых скобочках список параметров, которые она принимает. Далее после двоеточия со следующей строки идет тело функции -- тот код, который функция выполняет. Код функции пишется с отступом в 4 пробела от уровня `def`"
   ]
  },
  {
   "cell_type": "markdown",
   "metadata": {
    "colab_type": "text",
    "id": "XyacAiPW2d2N"
   },
   "source": [
    "Давайте, например, напишем функцию, которая принимает переменную x и вычисляет $x^2$"
   ]
  },
  {
   "cell_type": "code",
   "execution_count": 2,
   "metadata": {
    "colab": {},
    "colab_type": "code",
    "id": "eLjDjEUM2d2O"
   },
   "outputs": [
    {
     "data": {
      "text/plain": [
       "25"
      ]
     },
     "execution_count": 2,
     "metadata": {},
     "output_type": "execute_result"
    }
   ],
   "source": [
    "def square(x):\n",
    "    y = x**2\n",
    "    return y\n",
    "\n",
    "square(5)"
   ]
  },
  {
   "cell_type": "markdown",
   "metadata": {
    "colab_type": "text",
    "id": "MoXtVj-t2d2R"
   },
   "source": [
    "Существует еще один способ записи функций -- **lambda**-выражения. С использованием них наша функция square выше выглядела бы так:"
   ]
  },
  {
   "cell_type": "code",
   "execution_count": 3,
   "metadata": {
    "colab": {},
    "colab_type": "code",
    "id": "1gN72_E92d2S"
   },
   "outputs": [
    {
     "data": {
      "text/plain": [
       "25"
      ]
     },
     "execution_count": 3,
     "metadata": {},
     "output_type": "execute_result"
    }
   ],
   "source": [
    "square = lambda x: x**2\n",
    "\n",
    "square(5)"
   ]
  },
  {
   "cell_type": "markdown",
   "metadata": {
    "colab_type": "text",
    "id": "vKExTFca2d2W"
   },
   "source": [
    "Чтобы записать функцию в виде lambda, нужно написать ключевое слово lambda, после список переменных, которые функция принимает (в нашем случае это x), а затем после ':' -- возвращаемое функцией значение.   "
   ]
  },
  {
   "cell_type": "markdown",
   "metadata": {
    "colab_type": "text",
    "id": "IUYJlUDf2d2X"
   },
   "source": [
    "Такой способ записи короче, но менее читабельный. Не нужно использовать его везде. Есть моменты, в которых он удобен, например, при задании ключа при сортировке (об этом ниже в этом ноутбуке), то етсь, когда вам нужно **передать функцию в другую функцию**"
   ]
  },
  {
   "cell_type": "markdown",
   "metadata": {
    "colab_type": "text",
    "id": "3V0KEBtp8qs9"
   },
   "source": [
    "--------------"
   ]
  },
  {
   "cell_type": "markdown",
   "metadata": {
    "colab_type": "text",
    "id": "ZaJTlEtC2d2Y"
   },
   "source": [
    "### Задание 2\n",
    "\n",
    "Напишите функцию, которая принимает массив и индекс i и возвращает произведение всех элементов массива, находящийхся на этом индексах от 0 до i"
   ]
  },
  {
   "cell_type": "code",
   "execution_count": 8,
   "metadata": {
    "colab": {},
    "colab_type": "code",
    "id": "mDCk7UMa2d2Z"
   },
   "outputs": [],
   "source": [
    "# your code here\n",
    "def f(arr, i):\n",
    "    res = 1\n",
    "    for j in range(i):\n",
    "        res *= arr[j]\n",
    "    return res"
   ]
  },
  {
   "cell_type": "markdown",
   "metadata": {
    "colab_type": "text",
    "id": "V9DgiraX2d2d"
   },
   "source": [
    "------------------"
   ]
  },
  {
   "cell_type": "markdown",
   "metadata": {
    "colab_type": "text",
    "id": "AEP_z6nS8uzF"
   },
   "source": [
    "### Print"
   ]
  },
  {
   "cell_type": "markdown",
   "metadata": {
    "colab_type": "text",
    "id": "KvGSpU2-8xB4"
   },
   "source": [
    "`print(x)`, как известно, выводит на экран содержимое переменной x и далее перевод строки ('\\n'). Но что если мы не хотим, чтобы после вывода x выводился перевод строки? Например, если мы выводим целые числа от 1 до 100 в цикле и не хотим, чтобы каждое число выводилось на новой строке, а, например, хотим вывести их все через пробел.\n",
    "\n",
    "Для этого в print  можно передать аргумент end со значением, которое вы хотите, чтобы выводилось после вывода х:"
   ]
  },
  {
   "cell_type": "code",
   "execution_count": 9,
   "metadata": {
    "colab": {},
    "colab_type": "code",
    "id": "ege7qvE59Yvs"
   },
   "outputs": [
    {
     "name": "stdout",
     "output_type": "stream",
     "text": [
      "123456789"
     ]
    }
   ],
   "source": [
    "for i in range(1, 10):\n",
    "  # после i будет выводиться пустая строка\n",
    "  # т.е. все числа от 1 до 9 выведутся слитно\n",
    "  print(i, end='')"
   ]
  },
  {
   "cell_type": "code",
   "execution_count": 10,
   "metadata": {
    "colab": {},
    "colab_type": "code",
    "id": "5FFIt2BV9jOZ"
   },
   "outputs": [
    {
     "name": "stdout",
     "output_type": "stream",
     "text": [
      "1 2 3 4 5 6 7 8 9 "
     ]
    }
   ],
   "source": [
    "for i in range(1, 10):\n",
    "  # после i будет выводиться пробел\n",
    "  # т.е. все числа от 1 до 9 выведутся через пробел\n",
    "  print(i, end=' ')"
   ]
  },
  {
   "cell_type": "code",
   "execution_count": 11,
   "metadata": {
    "colab": {},
    "colab_type": "code",
    "id": "jgX6babr9m1m"
   },
   "outputs": [
    {
     "name": "stdout",
     "output_type": "stream",
     "text": [
      "1|2|3|4|5|6|7|8|9|"
     ]
    }
   ],
   "source": [
    "for i in range(1, 10):\n",
    "  # заметьте, что после последнего числа разделитель тоже вывелся\n",
    "  print(i, end='|')"
   ]
  },
  {
   "cell_type": "markdown",
   "metadata": {
    "colab_type": "text",
    "id": "8ChR-98q2d3B"
   },
   "source": [
    "-----------------"
   ]
  },
  {
   "cell_type": "markdown",
   "metadata": {
    "colab_type": "text",
    "id": "KrCLYmVs2oqL"
   },
   "source": [
    "### sort"
   ]
  },
  {
   "cell_type": "markdown",
   "metadata": {
    "colab_type": "text",
    "id": "anzGJvwo2wL9"
   },
   "source": [
    "Как и во многих языках программирования, в Python есть встроенные функции поиска максимума, минимума в массиве, сортировки массива и т.д. \n",
    "\n",
    "Сейчас поговорим о сортировке. \n",
    "\n",
    "Отсортировать iterable просто:"
   ]
  },
  {
   "cell_type": "code",
   "execution_count": 40,
   "metadata": {
    "colab": {},
    "colab_type": "code",
    "id": "VioxREsn2uQW"
   },
   "outputs": [
    {
     "name": "stdout",
     "output_type": "stream",
     "text": [
      "[-1, 3, 6, 7, 34, 98]\n",
      "['a', 'abcba', 'bababaa', 'stroka']\n"
     ]
    }
   ],
   "source": [
    "mas1 = [3, 6, 98, 34, -1, 7]\n",
    "mas2 = ['stroka', 'abcba', 'a', 'bababaa']\n",
    "\n",
    "# sorted НЕ изменяет массив, она возвращает отсортированную копию массива\n",
    "# это, в частности, позволяет сортировать tuple (который нельзя изменять)\n",
    "print(sorted(mas1))\n",
    "print(sorted(mas2))"
   ]
  },
  {
   "cell_type": "markdown",
   "metadata": {
    "colab_type": "text",
    "id": "x_KaMm354aBP"
   },
   "source": [
    "При этом, как видно, по умолчанию массив из чисел сортируется по возрастанию, массив строк -- в алфавитном порядке.\n",
    "\n",
    "Что можно сделать, если мы хотим отсортировать массив не так, как его сортирует `sorted` по умолчанию?\n",
    "\n",
    "Оказывается, в sorted можно передать аргумент `key` -- ключ, по которому мы хотим отсортировать наш массив. Рассмотрим пример: пусть у нас есть массив пар (кортежей размера 2) и мы хотим отсортировать его по **второму** элементу кортежа:"
   ]
  },
  {
   "cell_type": "code",
   "execution_count": 41,
   "metadata": {
    "colab": {},
    "colab_type": "code",
    "id": "qe7cOxQm5Bhq"
   },
   "outputs": [],
   "source": [
    "t = [(4, 5), (97, 2), (8, 291), (-1, 67), (98, -10), (8, 34)]"
   ]
  },
  {
   "cell_type": "markdown",
   "metadata": {
    "colab_type": "text",
    "id": "ariklxy95JwF"
   },
   "source": [
    "Если мы просто вызовем sorted, то получим следующее: массив отсортируется по первому элементу кортежей, а если первые элементы двух кортежей равны, то первым будет тот, у которого второй элемент меньше:"
   ]
  },
  {
   "cell_type": "code",
   "execution_count": 42,
   "metadata": {
    "colab": {},
    "colab_type": "code",
    "id": "UxRhdj2L5JEy"
   },
   "outputs": [
    {
     "name": "stdout",
     "output_type": "stream",
     "text": [
      "[(-1, 67), (4, 5), (8, 34), (8, 291), (97, 2), (98, -10)]\n"
     ]
    }
   ],
   "source": [
    "print(sorted(t))"
   ]
  },
  {
   "cell_type": "markdown",
   "metadata": {
    "colab_type": "text",
    "id": "_ARTmNd85Zgf"
   },
   "source": [
    "Но это не то, что мы хотели, мы хотели отсортировать массив по второму элементу кортежей. \n",
    "\n",
    "Вот как это сделать с помощью передачи ключа сортировки в sorted:"
   ]
  },
  {
   "cell_type": "code",
   "execution_count": 43,
   "metadata": {
    "colab": {},
    "colab_type": "code",
    "id": "WBOspLlf5Ytt"
   },
   "outputs": [
    {
     "data": {
      "text/plain": [
       "[(98, -10), (97, 2), (4, 5), (8, 34), (-1, 67), (8, 291)]"
      ]
     },
     "execution_count": 43,
     "metadata": {},
     "output_type": "execute_result"
    }
   ],
   "source": [
    "sorted(t, key=lambda x: x[1])"
   ]
  },
  {
   "cell_type": "markdown",
   "metadata": {
    "colab_type": "text",
    "id": "8R9RUUVt6pGh"
   },
   "source": [
    "В качестве значения `key` нужно передать функцию, которая принимает элемент iterable, который сы сортируем (в нашем случае это tuple) и возвращает значение, по которому будет выполняться сортировка (в нашем случае возвращаемое значение -- x[1] -- первый элемент кортежа)"
   ]
  },
  {
   "cell_type": "markdown",
   "metadata": {
    "colab_type": "text",
    "id": "blYetp6z7Cba"
   },
   "source": [
    "Также у list есть метод `sort`, который выполняет сортировку массива, **изменяя сам массив**:"
   ]
  },
  {
   "cell_type": "code",
   "execution_count": 44,
   "metadata": {
    "colab": {},
    "colab_type": "code",
    "id": "s0184doI6omu"
   },
   "outputs": [
    {
     "data": {
      "text/plain": [
       "[(-1, 67), (4, 5), (8, 34), (8, 291), (97, 2), (98, -10)]"
      ]
     },
     "execution_count": 44,
     "metadata": {},
     "output_type": "execute_result"
    }
   ],
   "source": [
    "t = [(4, 5), (97, 2), (8, 291), (-1, 67), (98, -10), (8, 34)]\n",
    "t.sort()\n",
    "t"
   ]
  },
  {
   "cell_type": "markdown",
   "metadata": {
    "colab_type": "text",
    "id": "DQuGaVmY7Ud1"
   },
   "source": [
    "В .sort() также пожно передавать ключ сортировки."
   ]
  }
 ],
 "metadata": {
  "colab": {
   "collapsed_sections": [
    "s6H55PRg2d1p",
    "6gAv4fNm2d2B",
    "N6Ns0rB52d2F",
    "ZaJTlEtC2d2Y",
    "AEP_z6nS8uzF",
    "VyZMMeIr2d2e",
    "XXPAkPSd2d2u",
    "cglQ6JNB2d2v",
    "jxfw8Oia2d2y",
    "KrCLYmVs2oqL",
    "ba4m15HQ2d3C",
    "4EVeUCtI2d3J",
    "sNRgMcED2d3L"
   ],
   "name": "python_extension.ipynb",
   "provenance": [],
   "version": "0.3.2"
  },
  "kernelspec": {
   "display_name": "Python 3",
   "language": "python",
   "name": "python3"
  },
  "language_info": {
   "codemirror_mode": {
    "name": "ipython",
    "version": 3
   },
   "file_extension": ".py",
   "mimetype": "text/x-python",
   "name": "python",
   "nbconvert_exporter": "python",
   "pygments_lexer": "ipython3",
   "version": "3.6.4"
  }
 },
 "nbformat": 4,
 "nbformat_minor": 1
}
