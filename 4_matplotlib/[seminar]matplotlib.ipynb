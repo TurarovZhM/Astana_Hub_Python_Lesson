{
 "cells": [
  {
   "cell_type": "markdown",
   "metadata": {
    "colab_type": "text",
    "id": "wUpaV4-w2fVp"
   },
   "source": [
    "## Matplotlib"
   ]
  },
  {
   "cell_type": "markdown",
   "metadata": {
    "colab_type": "text",
    "id": "ZYrqkk3X2fVq"
   },
   "source": [
    "Для отображения в notebook"
   ]
  },
  {
   "cell_type": "code",
   "execution_count": null,
   "metadata": {
    "colab": {},
    "colab_type": "code",
    "id": "gcxrWLxr2fVr"
   },
   "outputs": [],
   "source": [
    "%matplotlib inline\n",
    "import numpy as np\n",
    "import matplotlib.pyplot as plt"
   ]
  },
  {
   "cell_type": "markdown",
   "metadata": {
    "colab_type": "text",
    "id": "jVb1gOmn2fVu"
   },
   "source": [
    "Сейчас пора, когда многие болеют. Построим зависимость числа больных в семье Ивановых и Сидоровых от температуры на улице."
   ]
  },
  {
   "cell_type": "markdown",
   "metadata": {
    "colab_type": "text",
    "id": "3zZlsjNs2fVv"
   },
   "source": [
    "Мы имеем дискретное распределение, поэтому самое напрашиваемое представление это обычные точки"
   ]
  },
  {
   "cell_type": "code",
   "execution_count": null,
   "metadata": {
    "colab": {
     "base_uri": "https://localhost:8080/",
     "height": 294
    },
    "colab_type": "code",
    "executionInfo": {
     "elapsed": 682,
     "status": "ok",
     "timestamp": 1538238945224,
     "user": {
      "displayName": "Заур Датхужев",
      "photoUrl": "",
      "userId": "11697758568139387181"
     },
     "user_tz": -180
    },
    "id": "2sUO-Ea82fVv",
    "outputId": "a93a6cc0-f9da-46f5-8b96-a7a868e87442"
   },
   "outputs": [],
   "source": [
    "family_ivan = np.random.poisson(5, 5)\n",
    "family_sid = np.random.poisson(5, 5)\n",
    "\n",
    "x = np.arange(0, 10, 2)\n",
    "plt.scatter(x, family_ivan, label='Ивановы')\n",
    "plt.scatter(x, family_sid, label='Сидоровы')\n",
    "plt.title('Статистика больных')\n",
    "plt.ylabel('Кол-во больных')\n",
    "plt.xlabel('T температура')\n",
    "plt.legend()\n",
    "plt.show()"
   ]
  },
  {
   "cell_type": "markdown",
   "metadata": {
    "colab_type": "text",
    "id": "L0TcNegQ2fVz"
   },
   "source": [
    "Чтобы отследить зависмость лучше, воспользуемся непрерывным представление"
   ]
  },
  {
   "cell_type": "code",
   "execution_count": null,
   "metadata": {
    "colab": {
     "base_uri": "https://localhost:8080/",
     "height": 294
    },
    "colab_type": "code",
    "executionInfo": {
     "elapsed": 620,
     "status": "ok",
     "timestamp": 1538239037389,
     "user": {
      "displayName": "Заур Датхужев",
      "photoUrl": "",
      "userId": "11697758568139387181"
     },
     "user_tz": -180
    },
    "id": "ZvjToY-P2fV0",
    "outputId": "83ab1d26-03ab-4f20-de9e-4f20b82d5a81"
   },
   "outputs": [],
   "source": [
    "plt.plot(x, family_ivan, '--', label='Ивановы')\n",
    "plt.plot(x, family_sid, '--', label='Сидоровы')\n",
    "plt.title('Статистика больных')\n",
    "plt.ylabel('Кол-во больных')\n",
    "plt.xlabel('T температура')\n",
    "plt.legend()\n",
    "plt.show()"
   ]
  },
  {
   "cell_type": "markdown",
   "metadata": {
    "colab_type": "text",
    "id": "-SRyew4c2fV4"
   },
   "source": [
    "Давайте попробуем другое представление полученных данных c помощью bar-chart:"
   ]
  },
  {
   "cell_type": "code",
   "execution_count": null,
   "metadata": {
    "colab": {
     "base_uri": "https://localhost:8080/",
     "height": 294
    },
    "colab_type": "code",
    "executionInfo": {
     "elapsed": 667,
     "status": "ok",
     "timestamp": 1538239090517,
     "user": {
      "displayName": "Заур Датхужев",
      "photoUrl": "",
      "userId": "11697758568139387181"
     },
     "user_tz": -180
    },
    "id": "uZ2PBJI92fV4",
    "outputId": "0d713f19-e470-40f2-9a42-04536c51cb5f"
   },
   "outputs": [],
   "source": [
    "plt.bar(x, family_ivan, alpha=0.9\n",
    "      , label='Ивановы', color='r')\n",
    "plt.bar(x, family_sid, alpha=0.6, label='Сидоровы', color='b')\n",
    "plt.title('Статистика больных')\n",
    "plt.ylabel('Кол-во больных')\n",
    "plt.xlabel('T температура')\n",
    "plt.legend()\n",
    "plt.show()\n"
   ]
  },
  {
   "cell_type": "markdown",
   "metadata": {
    "colab_type": "text",
    "id": "IUB1pfiG2fV7"
   },
   "source": [
    "Давайте функции зависимоcти сделаем более гладкими:"
   ]
  },
  {
   "cell_type": "code",
   "execution_count": null,
   "metadata": {
    "colab": {},
    "colab_type": "code",
    "id": "1P0WQQHp2fV7"
   },
   "outputs": [],
   "source": [
    "from scipy.interpolate import interp1d\n",
    "f_ivan = interp1d(np.arange(0, 10, 2), family_ivan, kind='quadratic', fill_value=\"extrapolate\")\n",
    "f_sid = interp1d(np.arange(0, 10, 2), family_sid, kind='quadratic', fill_value=\"extrapolate\")"
   ]
  },
  {
   "cell_type": "markdown",
   "metadata": {
    "colab_type": "text",
    "id": "E-yPD1yl2fV9"
   },
   "source": [
    "Отобразим получившиеся функции:"
   ]
  },
  {
   "cell_type": "code",
   "execution_count": null,
   "metadata": {
    "colab": {
     "base_uri": "https://localhost:8080/",
     "height": 294
    },
    "colab_type": "code",
    "executionInfo": {
     "elapsed": 700,
     "status": "ok",
     "timestamp": 1538239257524,
     "user": {
      "displayName": "Tanya Klimova",
      "photoUrl": "",
      "userId": "15146434071872851979"
     },
     "user_tz": -180
    },
    "id": "zvD2iQWg2fV-",
    "outputId": "6b7be428-2547-4308-bd6f-260099b89788"
   },
   "outputs": [],
   "source": [
    "xnew = np.arange(0, 8.1, 0.1)\n",
    "ynew_ivan = f_ivan(xnew)\n",
    "ynew_sid = f_sid(xnew)\n",
    "plt.plot(xnew, ynew_ivan, label='Ивановы')\n",
    "plt.plot(xnew, ynew_sid, label='Сидоровы')\n",
    "plt.title('Статистика больных')\n",
    "plt.ylabel('Кол-во больных')\n",
    "plt.xlabel('T температура')\n",
    "plt.legend()\n",
    "plt.show()"
   ]
  },
  {
   "cell_type": "markdown",
   "metadata": {
    "colab_type": "text",
    "id": "-lkYDoy52fWC"
   },
   "source": [
    "Найдем самую оптимальную температуру для каждой семьи"
   ]
  },
  {
   "cell_type": "code",
   "execution_count": null,
   "metadata": {
    "colab": {
     "base_uri": "https://localhost:8080/",
     "height": 295
    },
    "colab_type": "code",
    "executionInfo": {
     "elapsed": 1003,
     "status": "ok",
     "timestamp": 1538239292622,
     "user": {
      "displayName": "Алексей Йтонет",
      "photoUrl": "",
      "userId": "03037686312349816626"
     },
     "user_tz": -180
    },
    "id": "uiuEFODE2fWC",
    "outputId": "7e42c890-eacf-4afc-cb65-0320efc1ed79"
   },
   "outputs": [],
   "source": [
    "from scipy.optimize import minimize\n",
    "max_ivan = minimize(f_ivan, x0=4)\n",
    "max_sid = minimize(f_sid, x0=4)\n",
    "xnew = np.arange(0, 8.5, 0.1)\n",
    "ynew_ivan = f_ivan(xnew)\n",
    "ynew_sid = f_sid(xnew)\n",
    "plt.plot(xnew, ynew_ivan, label='Ивановы')\n",
    "plt.plot([max_ivan.x[0]] * 14, np.arange(0, 14), label='{}'.format(max_ivan.x[0].round(2)))\n",
    "plt.plot(xnew, ynew_sid, label='Сидоровы')\n",
    "plt.plot([max_sid.x[0]] * 14, np.arange(0, 14), label='{}'.format(max_sid.x[0].round(2)))\n",
    "plt.title('Статистика больных')\n",
    "plt.ylabel('Кол-во больных')\n",
    "plt.xlabel('T температура')\n",
    "plt.legend()\n",
    "plt.show()"
   ]
  }
 ],
 "metadata": {
  "colab": {
   "collapsed_sections": [],
   "name": "Matplotlib.ipynb",
   "provenance": [],
   "version": "0.3.2"
  },
  "kernelspec": {
   "display_name": "Python 3",
   "language": "python",
   "name": "python3"
  },
  "language_info": {
   "codemirror_mode": {
    "name": "ipython",
    "version": 3
   },
   "file_extension": ".py",
   "mimetype": "text/x-python",
   "name": "python",
   "nbconvert_exporter": "python",
   "pygments_lexer": "ipython3",
   "version": "3.6.4"
  }
 },
 "nbformat": 4,
 "nbformat_minor": 1
}
