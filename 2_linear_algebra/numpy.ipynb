{
 "cells": [
  {
   "cell_type": "markdown",
   "metadata": {
    "colab_type": "text",
    "id": "Jv3wM2EJK01Q"
   },
   "source": [
    "<h2 style=\"text-align: center;\"><b>Python. Занятие 2: Numpy, Scipy</b></h2>"
   ]
  },
  {
   "cell_type": "markdown",
   "metadata": {
    "colab_type": "text",
    "id": "ZFb530GdK01R"
   },
   "source": [
    "<img align=left src=\"https://cdn.fedoramagazine.org/wp-content/uploads/2015/11/Python_logo.png\" width=400 height=250/>\n",
    "\n",
    "<img src=\"https://steemit-production-imageproxy-thumbnail.s3.amazonaws.com/DQmPzrCtkniAypHNkuGgEdqcmzzCxD6xCYKD7uFNDyZQLTv_1680x8400\" width=400 height=200 />"
   ]
  },
  {
   "cell_type": "markdown",
   "metadata": {
    "colab_type": "text",
    "id": "GB_0NqPUK01T"
   },
   "source": [
    "---"
   ]
  },
  {
   "cell_type": "markdown",
   "metadata": {
    "colab_type": "text",
    "id": "kBGnvjStK01T"
   },
   "source": [
    "## Библиотека NumPy"
   ]
  },
  {
   "cell_type": "markdown",
   "metadata": {
    "colab_type": "text",
    "id": "Iug83l7wK01U"
   },
   "source": [
    "Пакет **`NumPy`** предоставляет $n$-мерные однородные массивы (все элементы одного типа); в них нельзя вставить или удалить элемент в произвольном месте. В `numpy` реализовано много операций над массивами в целом. Если задачу можно решить, произведя некоторую последовательность операций над массивами, то это будет столь же эффективно, как в `C` или `matlab`, поскольку функции этой библиотеки реализованы специальным образом (на C, и далее заточены под Python)."
   ]
  },
  {
   "cell_type": "code",
   "execution_count": null,
   "metadata": {
    "colab": {},
    "colab_type": "code",
    "id": "zB8-qzXEK01V"
   },
   "outputs": [],
   "source": [
    "import numpy as np"
   ]
  },
  {
   "cell_type": "markdown",
   "metadata": {
    "colab_type": "text",
    "id": "f6y8_ITBK01Y"
   },
   "source": [
    "## 1.Одномерные массивы (векторы)"
   ]
  },
  {
   "cell_type": "markdown",
   "metadata": {
    "colab_type": "text",
    "id": "3k5eaQgGHLJD"
   },
   "source": [
    "Массивы и про операции над ними. Они выглядят следующим образом:"
   ]
  },
  {
   "cell_type": "code",
   "execution_count": null,
   "metadata": {
    "colab": {
     "base_uri": "https://localhost:8080/",
     "height": 35
    },
    "colab_type": "code",
    "executionInfo": {
     "elapsed": 655,
     "status": "ok",
     "timestamp": 1537631475334,
     "user": {
      "displayName": "Даниил Акопян",
      "photoUrl": "",
      "userId": "00158003536515238452"
     },
     "user_tz": -180
    },
    "id": "A8y4lFcdHLJD",
    "outputId": "0fede74c-f1d3-44bc-8c99-b5d25450fd5e"
   },
   "outputs": [],
   "source": [
    "x = [3, 4, 1]\n",
    "print(x)"
   ]
  },
  {
   "cell_type": "markdown",
   "metadata": {
    "colab_type": "text",
    "id": "dHYKof4KK01b"
   },
   "source": [
    "Давайте преобразуем наш массив в __numpy__ массив:"
   ]
  },
  {
   "cell_type": "code",
   "execution_count": null,
   "metadata": {
    "colab": {
     "base_uri": "https://localhost:8080/",
     "height": 35
    },
    "colab_type": "code",
    "executionInfo": {
     "elapsed": 654,
     "status": "ok",
     "timestamp": 1537631476154,
     "user": {
      "displayName": "Даниил Акопян",
      "photoUrl": "",
      "userId": "00158003536515238452"
     },
     "user_tz": -180
    },
    "id": "rffXuWJaK01c",
    "outputId": "60c38eba-0f91-4f9e-ae18-6915b60514f5"
   },
   "outputs": [],
   "source": [
    "a = np.array(x)\n",
    "print(a, type(a))"
   ]
  },
  {
   "cell_type": "code",
   "execution_count": null,
   "metadata": {
    "colab": {
     "base_uri": "https://localhost:8080/",
     "height": 35
    },
    "colab_type": "code",
    "executionInfo": {
     "elapsed": 665,
     "status": "ok",
     "timestamp": 1537631476970,
     "user": {
      "displayName": "Даниил Акопян",
      "photoUrl": "",
      "userId": "00158003536515238452"
     },
     "user_tz": -180
    },
    "id": "SLqJ9iQu8h9J",
    "outputId": "f476636b-6e49-47b3-bfca-fafe388035ef"
   },
   "outputs": [],
   "source": [
    "a.std()"
   ]
  },
  {
   "cell_type": "markdown",
   "metadata": {
    "colab_type": "text",
    "id": "iLQtJmH0K01g"
   },
   "source": [
    "`print` печатает массивы в удобной форме."
   ]
  },
  {
   "cell_type": "code",
   "execution_count": null,
   "metadata": {
    "colab": {
     "base_uri": "https://localhost:8080/",
     "height": 34
    },
    "colab_type": "code",
    "executionInfo": {
     "elapsed": 506,
     "status": "ok",
     "timestamp": 1537631093122,
     "user": {
      "displayName": "Григорий Лелейтнер",
      "photoUrl": "",
      "userId": "07179937308049589303"
     },
     "user_tz": -180
    },
    "id": "QGFfGuPtK01h",
    "outputId": "07ad7b6a-3e8e-4bb2-f7eb-67aedbcecaf7"
   },
   "outputs": [],
   "source": [
    "print(a/4)"
   ]
  },
  {
   "cell_type": "markdown",
   "metadata": {
    "colab_type": "text",
    "id": "6tBmi8DrHLJR"
   },
   "source": [
    "`numpy` предоставляет несколько типов для целых (`int16`, `int32`, `int64`) и чисел с плавающей точкой (`float32`, `float64`)."
   ]
  },
  {
   "cell_type": "code",
   "execution_count": null,
   "metadata": {
    "colab": {
     "base_uri": "https://localhost:8080/",
     "height": 34
    },
    "colab_type": "code",
    "executionInfo": {
     "elapsed": 523,
     "status": "ok",
     "timestamp": 1537631179517,
     "user": {
      "displayName": "Григорий Лелейтнер",
      "photoUrl": "",
      "userId": "07179937308049589303"
     },
     "user_tz": -180
    },
    "id": "XROlITuVHLJR",
    "outputId": "1d02b2a0-2efb-4bd3-cb58-dedd17098fc6"
   },
   "outputs": [],
   "source": [
    "a.dtype, a.dtype.name, a.itemsize"
   ]
  },
  {
   "cell_type": "code",
   "execution_count": null,
   "metadata": {
    "colab": {
     "base_uri": "https://localhost:8080/",
     "height": 34
    },
    "colab_type": "code",
    "executionInfo": {
     "elapsed": 535,
     "status": "ok",
     "timestamp": 1537631382237,
     "user": {
      "displayName": "Григорий Лелейтнер",
      "photoUrl": "",
      "userId": "07179937308049589303"
     },
     "user_tz": -180
    },
    "id": "bYMWEBdmHLJV",
    "outputId": "e9b582c4-4185-4fa6-8bcb-b4b1db315bab"
   },
   "outputs": [],
   "source": [
    "b = np.array([0., 2, 1])\n",
    "b.dtype"
   ]
  },
  {
   "cell_type": "markdown",
   "metadata": {
    "colab_type": "text",
    "id": "4gsvp2fjHLJY"
   },
   "source": [
    "Точно такой же массив."
   ]
  },
  {
   "cell_type": "code",
   "execution_count": null,
   "metadata": {
    "colab": {
     "base_uri": "https://localhost:8080/",
     "height": 34
    },
    "colab_type": "code",
    "executionInfo": {
     "elapsed": 520,
     "status": "ok",
     "timestamp": 1537631386875,
     "user": {
      "displayName": "Григорий Лелейтнер",
      "photoUrl": "",
      "userId": "07179937308049589303"
     },
     "user_tz": -180
    },
    "id": "ZrJbtW3OHLJY",
    "outputId": "38905214-16ce-462a-b09c-6768cfe39cec"
   },
   "outputs": [],
   "source": [
    "c = np.array([0.1, 2, 1], dtype=np.float64)\n",
    "print(c)"
   ]
  },
  {
   "cell_type": "markdown",
   "metadata": {
    "colab_type": "text",
    "id": "-U7vEzu-HLJe"
   },
   "source": [
    "Преобразование данных"
   ]
  },
  {
   "cell_type": "code",
   "execution_count": null,
   "metadata": {
    "colab": {
     "base_uri": "https://localhost:8080/",
     "height": 69
    },
    "colab_type": "code",
    "executionInfo": {
     "elapsed": 505,
     "status": "ok",
     "timestamp": 1537631425312,
     "user": {
      "displayName": "Григорий Лелейтнер",
      "photoUrl": "",
      "userId": "07179937308049589303"
     },
     "user_tz": -180
    },
    "id": "51ZSoCJJHLJg",
    "outputId": "ba3a937b-6eaa-4eb1-c797-4247f71bd08e"
   },
   "outputs": [],
   "source": [
    "print(c.dtype)\n",
    "print(c.astype(int))\n",
    "print(c.astype(str))"
   ]
  },
  {
   "cell_type": "markdown",
   "metadata": {
    "colab_type": "text",
    "id": "AhMuoHJ3HLJm"
   },
   "source": [
    "Так для чего нам нужны эти массивы, почему нам может не хватать возможностей обычных массивов?"
   ]
  },
  {
   "cell_type": "code",
   "execution_count": null,
   "metadata": {
    "colab": {
     "base_uri": "https://localhost:8080/",
     "height": 34
    },
    "colab_type": "code",
    "executionInfo": {
     "elapsed": 517,
     "status": "ok",
     "timestamp": 1537631585541,
     "user": {
      "displayName": "Григорий Лелейтнер",
      "photoUrl": "",
      "userId": "07179937308049589303"
     },
     "user_tz": -180
    },
    "id": "ZIr7VWPrK01l",
    "outputId": "8d148458-5307-41b0-b19c-711206ca802e"
   },
   "outputs": [],
   "source": [
    "set([0,1,4,2,2,2]) - set([0,2,90])"
   ]
  },
  {
   "cell_type": "code",
   "execution_count": null,
   "metadata": {
    "colab": {
     "base_uri": "https://localhost:8080/",
     "height": 51
    },
    "colab_type": "code",
    "executionInfo": {
     "elapsed": 594,
     "status": "ok",
     "timestamp": 1537631648246,
     "user": {
      "displayName": "Григорий Лелейтнер",
      "photoUrl": "",
      "userId": "07179937308049589303"
     },
     "user_tz": -180
    },
    "id": "29ugcejkHLJs",
    "outputId": "a292434e-eec5-4b77-ac5f-628af98d21d0"
   },
   "outputs": [],
   "source": [
    "print(x)\n",
    "print(x * 5)"
   ]
  },
  {
   "cell_type": "code",
   "execution_count": null,
   "metadata": {
    "colab": {
     "base_uri": "https://localhost:8080/",
     "height": 51
    },
    "colab_type": "code",
    "executionInfo": {
     "elapsed": 527,
     "status": "ok",
     "timestamp": 1537631668863,
     "user": {
      "displayName": "Григорий Лелейтнер",
      "photoUrl": "",
      "userId": "07179937308049589303"
     },
     "user_tz": -180
    },
    "id": "D6uWdE7RHLJw",
    "outputId": "978e74e0-c51d-4c40-90df-a2413050f873"
   },
   "outputs": [],
   "source": [
    "print(a)\n",
    "print(a * 5)"
   ]
  },
  {
   "cell_type": "code",
   "execution_count": null,
   "metadata": {
    "colab": {
     "base_uri": "https://localhost:8080/",
     "height": 201
    },
    "colab_type": "code",
    "executionInfo": {
     "elapsed": 500,
     "status": "error",
     "timestamp": 1537631673588,
     "user": {
      "displayName": "Григорий Лелейтнер",
      "photoUrl": "",
      "userId": "07179937308049589303"
     },
     "user_tz": -180
    },
    "id": "JyAUIoO9HLJy",
    "outputId": "0189549f-3cb0-497b-eebf-4604708c406f"
   },
   "outputs": [],
   "source": [
    "print(type(x))\n",
    "print(x ** 2)"
   ]
  },
  {
   "cell_type": "code",
   "execution_count": null,
   "metadata": {
    "colab": {
     "base_uri": "https://localhost:8080/",
     "height": 34
    },
    "colab_type": "code",
    "executionInfo": {
     "elapsed": 495,
     "status": "ok",
     "timestamp": 1537631688546,
     "user": {
      "displayName": "Григорий Лелейтнер",
      "photoUrl": "",
      "userId": "07179937308049589303"
     },
     "user_tz": -180
    },
    "id": "ya8-ulpaHLJ1",
    "outputId": "ceb9844a-0117-4769-b5e2-2f584a016158"
   },
   "outputs": [],
   "source": [
    "print(a ** 2)"
   ]
  },
  {
   "cell_type": "markdown",
   "metadata": {
    "colab_type": "text",
    "id": "-ihFsBq-HLJ3"
   },
   "source": [
    "Функция arange подобна range. Аргументы могут быть с плавающей точкой. Следует избегать ситуаций, когда (конец−начало)/шаг - целое число, потому что в этом случае включение последнего элемента зависит от ошибок округления. Лучше, чтобы конец диапазона был где-то посредине шага."
   ]
  },
  {
   "cell_type": "code",
   "execution_count": null,
   "metadata": {
    "colab": {
     "base_uri": "https://localhost:8080/",
     "height": 51
    },
    "colab_type": "code",
    "executionInfo": {
     "elapsed": 533,
     "status": "ok",
     "timestamp": 1537631744717,
     "user": {
      "displayName": "Григорий Лелейтнер",
      "photoUrl": "",
      "userId": "07179937308049589303"
     },
     "user_tz": -180
    },
    "id": "RI053gz6_CII",
    "outputId": "18098858-d651-4331-d622-6d3123460a42"
   },
   "outputs": [],
   "source": [
    "a = [4,5,7, \"56\"]\n",
    "print(a)\n",
    "print(type(a))"
   ]
  },
  {
   "cell_type": "code",
   "execution_count": null,
   "metadata": {
    "colab": {
     "base_uri": "https://localhost:8080/",
     "height": 86
    },
    "colab_type": "code",
    "executionInfo": {
     "elapsed": 712,
     "status": "ok",
     "timestamp": 1537631932028,
     "user": {
      "displayName": "Григорий Лелейтнер",
      "photoUrl": "",
      "userId": "07179937308049589303"
     },
     "user_tz": -180
    },
    "id": "XyLV0bszHLJ3",
    "outputId": "a2538986-8c50-4fec-ade9-d14f2463072c"
   },
   "outputs": [],
   "source": [
    "print(list(range(8)))\n",
    "print(*range(0, 8))\n",
    "print([2,5])\n",
    "print(2,5)\n"
   ]
  },
  {
   "cell_type": "code",
   "execution_count": null,
   "metadata": {
    "colab": {
     "base_uri": "https://localhost:8080/",
     "height": 34
    },
    "colab_type": "code",
    "executionInfo": {
     "elapsed": 531,
     "status": "ok",
     "timestamp": 1537632247644,
     "user": {
      "displayName": "Григорий Лелейтнер",
      "photoUrl": "",
      "userId": "07179937308049589303"
     },
     "user_tz": -180
    },
    "id": "3cNG0E_pHLJ6",
    "outputId": "7f01de85-c4df-4574-e1f9-2c6ed1a8ca55"
   },
   "outputs": [],
   "source": [
    "print(type(np.arange(0, 8)))"
   ]
  },
  {
   "cell_type": "code",
   "execution_count": null,
   "metadata": {
    "colab": {
     "base_uri": "https://localhost:8080/",
     "height": 51
    },
    "colab_type": "code",
    "executionInfo": {
     "elapsed": 506,
     "status": "ok",
     "timestamp": 1537632277257,
     "user": {
      "displayName": "Григорий Лелейтнер",
      "photoUrl": "",
      "userId": "07179937308049589303"
     },
     "user_tz": -180
    },
    "id": "t8qoTrmZHLJ_",
    "outputId": "73fb5eb6-0c4d-4ea9-a7b2-5e39306ca6de"
   },
   "outputs": [],
   "source": [
    "print(np.arange(0, -8, -0.5))"
   ]
  },
  {
   "cell_type": "markdown",
   "metadata": {
    "colab_type": "text",
    "id": "ouxSb-QvHLKB"
   },
   "source": [
    "Но самое главное:"
   ]
  },
  {
   "cell_type": "code",
   "execution_count": null,
   "metadata": {
    "colab": {
     "base_uri": "https://localhost:8080/",
     "height": 17475
    },
    "colab_type": "code",
    "executionInfo": {
     "elapsed": 2909,
     "status": "ok",
     "timestamp": 1537632454975,
     "user": {
      "displayName": "Григорий Лелейтнер",
      "photoUrl": "",
      "userId": "07179937308049589303"
     },
     "user_tz": -180
    },
    "id": "aaFIwlCqHLKC",
    "outputId": "b7fdbeb6-c3b1-4dbe-a6f9-d7081d012484"
   },
   "outputs": [],
   "source": [
    "%time np.arange(0, 50000000)\n",
    "%time list(range(0, 50000000))"
   ]
  },
  {
   "cell_type": "markdown",
   "metadata": {
    "colab_type": "text",
    "id": "r_i9uX70HLKF"
   },
   "source": [
    "Последовательности чисел с постоянным шагом можно также создавать функцией linspace. Начало и конец диапазона включаются; последний аргумент - число точек."
   ]
  },
  {
   "cell_type": "markdown",
   "metadata": {
    "colab_type": "text",
    "id": "ejb9as8jHLKQ"
   },
   "source": [
    "Можно задать список индексов."
   ]
  },
  {
   "cell_type": "code",
   "execution_count": null,
   "metadata": {
    "colab": {
     "base_uri": "https://localhost:8080/",
     "height": 34
    },
    "colab_type": "code",
    "executionInfo": {
     "elapsed": 548,
     "status": "ok",
     "timestamp": 1537633154724,
     "user": {
      "displayName": "Григорий Лелейтнер",
      "photoUrl": "",
      "userId": "07179937308049589303"
     },
     "user_tz": -180
    },
    "id": "VP7UZPrnHLKS",
    "outputId": "510b166a-bdc5-4247-9f35-fb5d9cb06d6c"
   },
   "outputs": [],
   "source": [
    "print(a[[False, False,  True,  True, False, False,  True,  True]])"
   ]
  },
  {
   "cell_type": "markdown",
   "metadata": {
    "colab_type": "text",
    "id": "i4oV6v1PHLK0"
   },
   "source": [
    "Сравнения дают булевы массивы."
   ]
  },
  {
   "cell_type": "code",
   "execution_count": null,
   "metadata": {
    "colab": {
     "base_uri": "https://localhost:8080/",
     "height": 51
    },
    "colab_type": "code",
    "executionInfo": {
     "elapsed": 549,
     "status": "ok",
     "timestamp": 1537633214434,
     "user": {
      "displayName": "Григорий Лелейтнер",
      "photoUrl": "",
      "userId": "07179937308049589303"
     },
     "user_tz": -180
    },
    "id": "mld-4ac7HLK0",
    "outputId": "ec39a5d4-f10a-4613-faef-b292c71d95a6"
   },
   "outputs": [],
   "source": [
    "print(a > 3)\n",
    "a[a > 3]"
   ]
  },
  {
   "cell_type": "markdown",
   "metadata": {
    "colab_type": "text",
    "id": "eWqx2FvLHLKV"
   },
   "source": [
    "## 2.Операции над одномерными массивами"
   ]
  },
  {
   "cell_type": "markdown",
   "metadata": {
    "colab_type": "text",
    "id": "R_xH0jUeHLKW"
   },
   "source": [
    "Следующие арифметические операции проводятся **поэлементно**."
   ]
  },
  {
   "cell_type": "code",
   "execution_count": null,
   "metadata": {
    "colab": {},
    "colab_type": "code",
    "id": "QlfM3eHwHLKX"
   },
   "outputs": [],
   "source": [
    "a = np.array([1, 2, 4])\n",
    "b = np.array([6, 5, 3])"
   ]
  },
  {
   "cell_type": "code",
   "execution_count": null,
   "metadata": {
    "colab": {},
    "colab_type": "code",
    "id": "4bHtpHa-HLKY"
   },
   "outputs": [],
   "source": [
    "print(a + b)"
   ]
  },
  {
   "cell_type": "code",
   "execution_count": null,
   "metadata": {
    "colab": {
     "base_uri": "https://localhost:8080/",
     "height": 34
    },
    "colab_type": "code",
    "executionInfo": {
     "elapsed": 605,
     "status": "ok",
     "timestamp": 1537633273561,
     "user": {
      "displayName": "Григорий Лелейтнер",
      "photoUrl": "",
      "userId": "07179937308049589303"
     },
     "user_tz": -180
    },
    "id": "0P3yNmuYHLKb",
    "outputId": "db5ae83b-43aa-4af6-91cb-dbca82288dd6"
   },
   "outputs": [],
   "source": [
    "print(a - b)"
   ]
  },
  {
   "cell_type": "markdown",
   "metadata": {
    "colab_type": "text",
    "id": "QEeim-DKHLKe"
   },
   "source": [
    "Поэлементное умножение (произведение):"
   ]
  },
  {
   "cell_type": "code",
   "execution_count": null,
   "metadata": {
    "colab": {
     "base_uri": "https://localhost:8080/",
     "height": 34
    },
    "colab_type": "code",
    "executionInfo": {
     "elapsed": 481,
     "status": "ok",
     "timestamp": 1537633275886,
     "user": {
      "displayName": "Григорий Лелейтнер",
      "photoUrl": "",
      "userId": "07179937308049589303"
     },
     "user_tz": -180
    },
    "id": "-gCMkL9MHLKe",
    "outputId": "98fd3c39-637a-4cf6-b2eb-b916594a18dd"
   },
   "outputs": [],
   "source": [
    "print(a * b)"
   ]
  },
  {
   "cell_type": "markdown",
   "metadata": {
    "colab_type": "text",
    "id": "WfqfXImaHLKg"
   },
   "source": [
    "Скалярное произведение \n",
    "$a~\\cdot~b = (a_1, a_2, .., a_n) \\cdot (b_1, b_2, .., b_n) = a_1b_1 + a_2b_2 + .. + b_nb_n = \\sum_{i=1}^{n} a_ib_i$:\n"
   ]
  },
  {
   "cell_type": "code",
   "execution_count": null,
   "metadata": {
    "colab": {
     "base_uri": "https://localhost:8080/",
     "height": 34
    },
    "colab_type": "code",
    "executionInfo": {
     "elapsed": 571,
     "status": "ok",
     "timestamp": 1537633277648,
     "user": {
      "displayName": "Григорий Лелейтнер",
      "photoUrl": "",
      "userId": "07179937308049589303"
     },
     "user_tz": -180
    },
    "id": "47c57Q62EQmw",
    "outputId": "105e904f-b3d6-42e5-ff3a-62deb0c0fd5b"
   },
   "outputs": [],
   "source": [
    "print(a,b)"
   ]
  },
  {
   "cell_type": "code",
   "execution_count": null,
   "metadata": {
    "colab": {
     "base_uri": "https://localhost:8080/",
     "height": 34
    },
    "colab_type": "code",
    "executionInfo": {
     "elapsed": 645,
     "status": "ok",
     "timestamp": 1537633388593,
     "user": {
      "displayName": "Григорий Лелейтнер",
      "photoUrl": "",
      "userId": "07179937308049589303"
     },
     "user_tz": -180
    },
    "id": "YXx9wDsyHLKi",
    "outputId": "fc33aa7f-3e35-4f87-e10d-0fdbab58afc8"
   },
   "outputs": [],
   "source": [
    "print(np.dot(a, b))"
   ]
  },
  {
   "cell_type": "markdown",
   "metadata": {
    "colab_type": "text",
    "id": "XdNohDf8HLKl"
   },
   "source": [
    "Поэлементное умножение:"
   ]
  },
  {
   "cell_type": "code",
   "execution_count": null,
   "metadata": {
    "colab": {
     "base_uri": "https://localhost:8080/",
     "height": 51
    },
    "colab_type": "code",
    "executionInfo": {
     "elapsed": 451,
     "status": "ok",
     "timestamp": 1537633389513,
     "user": {
      "displayName": "Григорий Лелейтнер",
      "photoUrl": "",
      "userId": "07179937308049589303"
     },
     "user_tz": -180
    },
    "id": "oiIYDcLbE1ff",
    "outputId": "b659b7c3-42b5-4943-8b15-4894243e0095"
   },
   "outputs": [],
   "source": [
    "print(a*b)"
   ]
  },
  {
   "cell_type": "code",
   "execution_count": null,
   "metadata": {
    "colab": {
     "base_uri": "https://localhost:8080/",
     "height": 34
    },
    "colab_type": "code",
    "executionInfo": {
     "elapsed": 641,
     "status": "ok",
     "timestamp": 1537633390591,
     "user": {
      "displayName": "Григорий Лелейтнер",
      "photoUrl": "",
      "userId": "07179937308049589303"
     },
     "user_tz": -180
    },
    "id": "PBB8lVsmHLKl",
    "outputId": "661d8542-e108-4129-f4e4-f24906ec6658"
   },
   "outputs": [],
   "source": [
    "print(a / (b + 1))"
   ]
  },
  {
   "cell_type": "markdown",
   "metadata": {
    "colab_type": "text",
    "id": "5g6fqQ1iHLKu"
   },
   "source": [
    "`numpy` содержит элементарные функции, которые тоже применяются к массивам поэлементно. Они называются **универсальными функциями (`ufunc`)**."
   ]
  },
  {
   "cell_type": "code",
   "execution_count": null,
   "metadata": {
    "colab": {
     "base_uri": "https://localhost:8080/",
     "height": 34
    },
    "colab_type": "code",
    "executionInfo": {
     "elapsed": 502,
     "status": "ok",
     "timestamp": 1537633425182,
     "user": {
      "displayName": "Григорий Лелейтнер",
      "photoUrl": "",
      "userId": "07179937308049589303"
     },
     "user_tz": -180
    },
    "id": "H2ImpVhVFYS0",
    "outputId": "dbeb0ff5-836f-4aae-e6bd-0e9f399dac19"
   },
   "outputs": [],
   "source": [
    "a.round()"
   ]
  },
  {
   "cell_type": "markdown",
   "metadata": {
    "colab_type": "text",
    "id": "QSj8BQPTHLK8"
   },
   "source": [
    "Сумма и произведение всех элементов массива; максимальный и минимальный элемент; среднее"
   ]
  },
  {
   "cell_type": "code",
   "execution_count": null,
   "metadata": {
    "colab": {
     "base_uri": "https://localhost:8080/",
     "height": 35
    },
    "colab_type": "code",
    "executionInfo": {
     "elapsed": 585,
     "status": "ok",
     "timestamp": 1537633661484,
     "user": {
      "displayName": "Даниил Акопян",
      "photoUrl": "",
      "userId": "00158003536515238452"
     },
     "user_tz": -180
    },
    "id": "SeOWCHW8G5rj",
    "outputId": "5c7a069b-6f1a-4bcf-acdb-614e3458f2b7"
   },
   "outputs": [],
   "source": [
    "print(b)"
   ]
  },
  {
   "cell_type": "code",
   "execution_count": null,
   "metadata": {
    "colab": {},
    "colab_type": "code",
    "id": "C0gawshJHA4K"
   },
   "outputs": [],
   "source": [
    "b = np.array([[1,2],\n",
    "              [3,4]])"
   ]
  },
  {
   "cell_type": "code",
   "execution_count": null,
   "metadata": {
    "colab": {
     "base_uri": "https://localhost:8080/",
     "height": 34
    },
    "colab_type": "code",
    "executionInfo": {
     "elapsed": 546,
     "status": "ok",
     "timestamp": 1537634311178,
     "user": {
      "displayName": "Григорий Лелейтнер",
      "photoUrl": "",
      "userId": "07179937308049589303"
     },
     "user_tz": -180
    },
    "id": "Du_0OIk2HLK9",
    "outputId": "10c8bc75-2338-4dee-e9ca-e297b1fad93e"
   },
   "outputs": [],
   "source": [
    "b.sum(), b.prod(), b.min(), b.max(), b.mean()"
   ]
  },
  {
   "cell_type": "markdown",
   "metadata": {
    "colab_type": "text",
    "id": "huHtTV7WHLLA"
   },
   "source": [
    "Константы:\n"
   ]
  },
  {
   "cell_type": "code",
   "execution_count": null,
   "metadata": {
    "colab": {
     "base_uri": "https://localhost:8080/",
     "height": 34
    },
    "colab_type": "code",
    "executionInfo": {
     "elapsed": 558,
     "status": "ok",
     "timestamp": 1537634324166,
     "user": {
      "displayName": "Григорий Лелейтнер",
      "photoUrl": "",
      "userId": "07179937308049589303"
     },
     "user_tz": -180
    },
    "id": "iQV8mRzIHLLA",
    "outputId": "37397676-a902-46cc-f83c-6369145488ea"
   },
   "outputs": [],
   "source": [
    "print(np.e, np.pi)"
   ]
  },
  {
   "cell_type": "markdown",
   "metadata": {
    "colab_type": "text",
    "id": "4pkTgR6iHLLD"
   },
   "source": [
    "Функция `sort` возвращает отсортированную копию, метод `sort` сортирует на месте (*inplace*)."
   ]
  },
  {
   "cell_type": "code",
   "execution_count": null,
   "metadata": {
    "colab": {
     "base_uri": "https://localhost:8080/",
     "height": 51
    },
    "colab_type": "code",
    "executionInfo": {
     "elapsed": 521,
     "status": "ok",
     "timestamp": 1537634327369,
     "user": {
      "displayName": "Григорий Лелейтнер",
      "photoUrl": "",
      "userId": "07179937308049589303"
     },
     "user_tz": -180
    },
    "id": "FZ442SUWHLLF",
    "outputId": "5c8257c8-aff5-4224-eb2f-3581e9ed9cbd"
   },
   "outputs": [],
   "source": [
    "b = np.arange(9, -1,-1)\n",
    "\n",
    "print(np.sort(b))\n",
    "print(b)"
   ]
  },
  {
   "cell_type": "markdown",
   "metadata": {
    "colab_type": "text",
    "id": "JtLygbXuHLLH"
   },
   "source": [
    "Функции delete, insert и append не меняют массив на месте, а возвращают новый массив, в котором удалены, вставлены в середину или добавлены в конец какие-то элементы.\n"
   ]
  },
  {
   "cell_type": "code",
   "execution_count": null,
   "metadata": {
    "colab": {
     "base_uri": "https://localhost:8080/",
     "height": 34
    },
    "colab_type": "code",
    "executionInfo": {
     "elapsed": 1090,
     "status": "ok",
     "timestamp": 1537634479663,
     "user": {
      "displayName": "Григорий Лелейтнер",
      "photoUrl": "",
      "userId": "07179937308049589303"
     },
     "user_tz": -180
    },
    "id": "FR2hIiO6HLLH",
    "outputId": "06051c56-ffa9-4e50-d351-0494621bae33"
   },
   "outputs": [],
   "source": [
    "a = np.arange(10, -1, -1)\n",
    "print(a)\n",
    "a = np.delete(a, [5, 7])\n",
    "print(a)"
   ]
  },
  {
   "cell_type": "code",
   "execution_count": null,
   "metadata": {
    "colab": {
     "base_uri": "https://localhost:8080/",
     "height": 34
    },
    "colab_type": "code",
    "executionInfo": {
     "elapsed": 2147,
     "status": "ok",
     "timestamp": 1537634482009,
     "user": {
      "displayName": "Григорий Лелейтнер",
      "photoUrl": "",
      "userId": "07179937308049589303"
     },
     "user_tz": -180
    },
    "id": "TXpfhNR4HLLJ",
    "outputId": "99349b70-d601-4a14-a9fb-70edbe2bfd2a"
   },
   "outputs": [],
   "source": [
    "a = np.insert(a, [2, 3], [-100, -200])\n",
    "print(a)"
   ]
  },
  {
   "cell_type": "code",
   "execution_count": null,
   "metadata": {
    "colab": {
     "base_uri": "https://localhost:8080/",
     "height": 34
    },
    "colab_type": "code",
    "executionInfo": {
     "elapsed": 541,
     "status": "ok",
     "timestamp": 1537634505324,
     "user": {
      "displayName": "Григорий Лелейтнер",
      "photoUrl": "",
      "userId": "07179937308049589303"
     },
     "user_tz": -180
    },
    "id": "edUJplmjHLLM",
    "outputId": "1cf09b88-e2fe-4a34-a059-318fdf7fc86d"
   },
   "outputs": [],
   "source": [
    "a = np.append(a, [1, 2, 3])\n",
    "print(a)"
   ]
  },
  {
   "cell_type": "markdown",
   "metadata": {
    "colab_type": "text",
    "id": "coBYIBmRHLLO"
   },
   "source": [
    "## Двумерные массивы (матрицы)"
   ]
  },
  {
   "cell_type": "markdown",
   "metadata": {
    "colab_type": "text",
    "id": "VGT-0_S-HLLO"
   },
   "source": [
    "$$\n",
    "A = \\begin{bmatrix}\n",
    "    x_{11} & x_{12} & x_{13} & \\dots  & x_{1n} \\\\\n",
    "    x_{21} & x_{22} & x_{23} & \\dots  & x_{2n} \\\\\n",
    "    \\vdots & \\vdots & \\vdots & \\ddots & \\vdots \\\\\n",
    "    x_{m1} & x_{m2} & x_{m3} & \\dots  & x_{mn}\n",
    "\\end{bmatrix}\n",
    "$$"
   ]
  },
  {
   "cell_type": "markdown",
   "metadata": {
    "colab_type": "text",
    "id": "eKWRdVtZHLLP"
   },
   "source": [
    "Вернемся к массиву __a__"
   ]
  },
  {
   "cell_type": "code",
   "execution_count": null,
   "metadata": {
    "colab": {},
    "colab_type": "code",
    "id": "iJqzLGpwHLLQ"
   },
   "outputs": [],
   "source": [
    "x = [[5,9,7],[3, 4, 1]]\n",
    "a = np.array(x)"
   ]
  },
  {
   "cell_type": "markdown",
   "metadata": {
    "colab_type": "text",
    "id": "TPITg_tbK01o"
   },
   "source": [
    "`ndarray.ndim` — число осей (измерений) массива. Как уже было сказано, в мире Python число измерений часто называют рангом"
   ]
  },
  {
   "cell_type": "markdown",
   "metadata": {
    "colab_type": "text",
    "id": "XJZchBuTHLLS"
   },
   "source": [
    "Наш массив одномерный, то есть просто строчка, поэтому"
   ]
  },
  {
   "cell_type": "code",
   "execution_count": null,
   "metadata": {
    "colab": {
     "base_uri": "https://localhost:8080/",
     "height": 34
    },
    "colab_type": "code",
    "executionInfo": {
     "elapsed": 522,
     "status": "ok",
     "timestamp": 1537634555663,
     "user": {
      "displayName": "Григорий Лелейтнер",
      "photoUrl": "",
      "userId": "07179937308049589303"
     },
     "user_tz": -180
    },
    "id": "T8NFY1i2K01o",
    "outputId": "8f16ba14-af07-4ab3-db5a-392f344ff0d3"
   },
   "outputs": [],
   "source": [
    "a.ndim"
   ]
  },
  {
   "cell_type": "markdown",
   "metadata": {
    "colab_type": "text",
    "id": "4nnvpsEIK01s"
   },
   "source": [
    "`ndarray.shape` — размеры массива, его форма. Это кортеж натуральных чисел, показывающий длину массива по каждой оси. Для матрицы из n строк и m столбов, shape будет (n,m). "
   ]
  },
  {
   "cell_type": "markdown",
   "metadata": {
    "colab_type": "text",
    "id": "aeRIBlpSK01s"
   },
   "source": [
    "В $n$-мерном случае возвращается кортеж размеров по каждой координате."
   ]
  },
  {
   "cell_type": "code",
   "execution_count": null,
   "metadata": {
    "colab": {
     "base_uri": "https://localhost:8080/",
     "height": 34
    },
    "colab_type": "code",
    "executionInfo": {
     "elapsed": 616,
     "status": "ok",
     "timestamp": 1537634727468,
     "user": {
      "displayName": "Григорий Лелейтнер",
      "photoUrl": "",
      "userId": "07179937308049589303"
     },
     "user_tz": -180
    },
    "id": "I3alp4_jK01u",
    "outputId": "d57fd160-3766-45a7-a761-7668644ff328"
   },
   "outputs": [],
   "source": [
    "a.shape"
   ]
  },
  {
   "cell_type": "code",
   "execution_count": null,
   "metadata": {
    "colab": {
     "base_uri": "https://localhost:8080/",
     "height": 34
    },
    "colab_type": "code",
    "executionInfo": {
     "elapsed": 663,
     "status": "ok",
     "timestamp": 1537634808921,
     "user": {
      "displayName": "Григорий Лелейтнер",
      "photoUrl": "",
      "userId": "07179937308049589303"
     },
     "user_tz": -180
    },
    "id": "kOh9eH5JK01y",
    "outputId": "2920f319-f854-40db-f091-1039bfbc1b70"
   },
   "outputs": [],
   "source": [
    "len(a)"
   ]
  },
  {
   "cell_type": "code",
   "execution_count": null,
   "metadata": {
    "colab": {
     "base_uri": "https://localhost:8080/",
     "height": 34
    },
    "colab_type": "code",
    "executionInfo": {
     "elapsed": 703,
     "status": "ok",
     "timestamp": 1537634809837,
     "user": {
      "displayName": "Григорий Лелейтнер",
      "photoUrl": "",
      "userId": "07179937308049589303"
     },
     "user_tz": -180
    },
    "id": "IhHOHg4QK014",
    "outputId": "b8209c3f-c58c-4bb0-c6f5-5bf9809a061f"
   },
   "outputs": [],
   "source": [
    "a.size"
   ]
  },
  {
   "cell_type": "markdown",
   "metadata": {
    "colab_type": "text",
    "id": "Hq1rOe4FK018"
   },
   "source": [
    "**Вопрос:** \n",
    " >Как связаны элементы кортежа shape, ndim, size?"
   ]
  },
  {
   "cell_type": "markdown",
   "metadata": {
    "colab_type": "text",
    "id": "KQrw6IV-p-S1"
   },
   "source": [
    "**Ответ:**"
   ]
  },
  {
   "cell_type": "code",
   "execution_count": null,
   "metadata": {
    "colab": {},
    "colab_type": "code",
    "id": "YvDxkeQlp-SV"
   },
   "outputs": [],
   "source": []
  },
  {
   "cell_type": "markdown",
   "metadata": {
    "colab_type": "text",
    "id": "fCJ25h2YHLLj"
   },
   "source": [
    "__Обратите внимание:__ вектор и одномерный массив тождественные понятия в `NumPy`. Помимо этого, также существуют понятия _вектор-столбец_ и _вектор-строка_, которые, несмотря на то что математически задают один и тот же объект, являются двумерными массивами и имеют другое значение поля __`shape`__ (в этом случае поле состоит из двух чисел, одно из которых равно единице). Эти тонкости будут рассмотрены в следующем уроке."
   ]
  },
  {
   "cell_type": "code",
   "execution_count": null,
   "metadata": {
    "colab": {
     "base_uri": "https://localhost:8080/",
     "height": 34
    },
    "colab_type": "code",
    "executionInfo": {
     "elapsed": 500,
     "status": "ok",
     "timestamp": 1537635612084,
     "user": {
      "displayName": "Григорий Лелейтнер",
      "photoUrl": "",
      "userId": "07179937308049589303"
     },
     "user_tz": -180
    },
    "id": "SbI7UWxSK019",
    "outputId": "8639b7d1-a1f6-4d38-e9e7-03a2988acbcd"
   },
   "outputs": [],
   "source": [
    "b[:,np.newaxis, :].shape"
   ]
  },
  {
   "cell_type": "code",
   "execution_count": null,
   "metadata": {
    "colab": {
     "base_uri": "https://localhost:8080/",
     "height": 86
    },
    "colab_type": "code",
    "executionInfo": {
     "elapsed": 517,
     "status": "ok",
     "timestamp": 1537634939966,
     "user": {
      "displayName": "Григорий Лелейтнер",
      "photoUrl": "",
      "userId": "07179937308049589303"
     },
     "user_tz": -180
    },
    "id": "dN7rk5jwK02B",
    "outputId": "02893d14-8f1c-4e6f-ab43-8f3c6d13c0f2"
   },
   "outputs": [],
   "source": [
    "print('shape():', b.shape,'\\nndim():', b.ndim, '\\nsize():', b.size, '\\nlen():', len(b))"
   ]
  },
  {
   "cell_type": "markdown",
   "metadata": {
    "colab_type": "text",
    "id": "j5YLEr1YHLMe"
   },
   "source": [
    "## Операции с матрицами"
   ]
  },
  {
   "cell_type": "code",
   "execution_count": null,
   "metadata": {
    "colab": {},
    "colab_type": "code",
    "id": "LuHvQIYYHLMe"
   },
   "outputs": [],
   "source": [
    "A = np.array([[1, 0], [0, 1]])\n",
    "B = np.array([[4, 1], [2, 2]])"
   ]
  },
  {
   "cell_type": "code",
   "execution_count": null,
   "metadata": {
    "colab": {
     "base_uri": "https://localhost:8080/",
     "height": 51
    },
    "colab_type": "code",
    "executionInfo": {
     "elapsed": 453,
     "status": "ok",
     "timestamp": 1537635988737,
     "user": {
      "displayName": "Григорий Лелейтнер",
      "photoUrl": "",
      "userId": "07179937308049589303"
     },
     "user_tz": -180
    },
    "id": "69hzQw-CHLMg",
    "outputId": "e18d23e7-a2fa-47ac-d82f-39cf79acc68d"
   },
   "outputs": [],
   "source": [
    "print(A + B)"
   ]
  },
  {
   "cell_type": "code",
   "execution_count": null,
   "metadata": {
    "colab": {
     "base_uri": "https://localhost:8080/",
     "height": 51
    },
    "colab_type": "code",
    "executionInfo": {
     "elapsed": 592,
     "status": "ok",
     "timestamp": 1537635989539,
     "user": {
      "displayName": "Григорий Лелейтнер",
      "photoUrl": "",
      "userId": "07179937308049589303"
     },
     "user_tz": -180
    },
    "id": "tyr-7ysUHLMg",
    "outputId": "9a38ebda-f258-48be-ff22-74a720e71435"
   },
   "outputs": [],
   "source": [
    "print(A - B)"
   ]
  },
  {
   "cell_type": "code",
   "execution_count": null,
   "metadata": {
    "colab": {
     "base_uri": "https://localhost:8080/",
     "height": 51
    },
    "colab_type": "code",
    "executionInfo": {
     "elapsed": 673,
     "status": "ok",
     "timestamp": 1537635990408,
     "user": {
      "displayName": "Григорий Лелейтнер",
      "photoUrl": "",
      "userId": "07179937308049589303"
     },
     "user_tz": -180
    },
    "id": "q4xXhq1GHLMi",
    "outputId": "6ba7ea1e-c9a5-4ae1-d1d1-6915f3f65086"
   },
   "outputs": [],
   "source": [
    "print(A / B)"
   ]
  },
  {
   "cell_type": "code",
   "execution_count": null,
   "metadata": {
    "colab": {
     "base_uri": "https://localhost:8080/",
     "height": 51
    },
    "colab_type": "code",
    "executionInfo": {
     "elapsed": 761,
     "status": "ok",
     "timestamp": 1537635991346,
     "user": {
      "displayName": "Григорий Лелейтнер",
      "photoUrl": "",
      "userId": "07179937308049589303"
     },
     "user_tz": -180
    },
    "id": "FbFu6IS0HLMj",
    "outputId": "86c5c201-8981-418a-a282-115b250b479c"
   },
   "outputs": [],
   "source": [
    "print(A * B)"
   ]
  },
  {
   "cell_type": "markdown",
   "metadata": {
    "colab_type": "text",
    "id": "Y7CJCuL5HLMl"
   },
   "source": [
    "__Напоминание теории.__ __Транспонированной матрицей__ $A^{T}$ называется матрица, полученная из исходной матрицы $A$ заменой строк на столбцы. Формально: элементы матрицы $A^{T}$ определяются как $a^{T}_{ij} = a_{ji}$, где $a^{T}_{ij}$ — элемент матрицы $A^{T}$, стоящий на пересечении строки с номером $i$ и столбца с номером $j$.\n",
    "\n",
    "В `NumPy` транспонированная матрица вычисляется с помощью функции __`numpy.transpose()`__ или с помощью _метода_ __`array.T`__, где __`array`__ — нужный двумерный массив."
   ]
  },
  {
   "cell_type": "code",
   "execution_count": null,
   "metadata": {
    "colab": {},
    "colab_type": "code",
    "id": "Q6G6FzQ3HLMl"
   },
   "outputs": [],
   "source": [
    "a = np.array([[1, 2], [3, 4]])\n",
    "b = np.transpose(a)\n",
    "c = a.T.T"
   ]
  },
  {
   "cell_type": "code",
   "execution_count": null,
   "metadata": {
    "colab": {
     "base_uri": "https://localhost:8080/",
     "height": 173
    },
    "colab_type": "code",
    "executionInfo": {
     "elapsed": 527,
     "status": "ok",
     "timestamp": 1537635995606,
     "user": {
      "displayName": "Григорий Лелейтнер",
      "photoUrl": "",
      "userId": "07179937308049589303"
     },
     "user_tz": -180
    },
    "id": "_dBqecA2HLMn",
    "outputId": "72036b75-e0ca-431b-fb08-3f777b03c990"
   },
   "outputs": [],
   "source": [
    "print(\"Матрица:\\n\", a)\n",
    "print(\"Транспонирование функцией:\\n\", b)\n",
    "print(\"Транспонирование методом:\\n\",  c)"
   ]
  },
  {
   "cell_type": "markdown",
   "metadata": {
    "colab_type": "text",
    "id": "gPABHln8HLMp"
   },
   "source": [
    "__Напоминание теории.__ Операция __умножения__ определена для двух матриц, таких что число столбцов первой равно числу строк второй. \n",
    "\n",
    "Пусть матрицы $A$ и $B$ таковы, что $A \\in \\mathbb{R}^{n \\times k}$ и $B \\in \\mathbb{R}^{k \\times m}$. __Произведением__ матриц $A$ и $B$ называется матрица $C$, такая что $c_{ij} = \\sum_{r=1}^{k} a_{ir}b_{rj}$, где $c_{ij}$ — элемент матрицы $C$, стоящий на пересечении строки с номером $i$ и столбца с номером $j$.\n",
    "\n",
    "В `NumPy` произведение матриц вычисляется с помощью функции __`numpy.dot(a, b, ...)`__ или с помощью _метода_ __`array1.dot(array2)`__, где __`array1`__ и __`array2`__ — перемножаемые матрицы."
   ]
  },
  {
   "cell_type": "code",
   "execution_count": null,
   "metadata": {
    "colab": {},
    "colab_type": "code",
    "id": "nvmP9mmLHLMq"
   },
   "outputs": [],
   "source": [
    "y = np.array([1, 0])\n",
    "z = np.dot(A, y)"
   ]
  },
  {
   "cell_type": "code",
   "execution_count": null,
   "metadata": {
    "colab": {
     "base_uri": "https://localhost:8080/",
     "height": 34
    },
    "colab_type": "code",
    "executionInfo": {
     "elapsed": 657,
     "status": "ok",
     "timestamp": 1537624883296,
     "user": {
      "displayName": "Григорий Лелейтнер",
      "photoUrl": "",
      "userId": "07179937308049589303"
     },
     "user_tz": -180
    },
    "id": "YIsxb9UdK06n",
    "outputId": "ed7841fa-2091-42b9-f7cd-682d839beeaf"
   },
   "outputs": [],
   "source": [
    "y = np.linalg.solve(A, z)\n",
    "print(y)"
   ]
  },
  {
   "cell_type": "markdown",
   "metadata": {
    "colab_type": "text",
    "id": "4t6WW1poHLMs"
   },
   "source": [
    "#### Линейная алгебра (модуль `np.linalg`)"
   ]
  },
  {
   "cell_type": "code",
   "execution_count": null,
   "metadata": {
    "colab": {
     "base_uri": "https://localhost:8080/",
     "height": 51
    },
    "colab_type": "code",
    "executionInfo": {
     "elapsed": 520,
     "status": "ok",
     "timestamp": 1537636135356,
     "user": {
      "displayName": "Григорий Лелейтнер",
      "photoUrl": "",
      "userId": "07179937308049589303"
     },
     "user_tz": -180
    },
    "id": "UyCMO5DvHLMt",
    "outputId": "79e1fd37-1b5d-4216-a3c9-97474350d30f"
   },
   "outputs": [],
   "source": [
    "A = np.array([[1, 0], [0, 1]])\n",
    "x = np.array([[4, 1], [2, 2]])\n",
    "b = np.dot(A, x)\n",
    "print(b)"
   ]
  },
  {
   "cell_type": "markdown",
   "metadata": {
    "colab_type": "text",
    "id": "Fse23NT-HLMu"
   },
   "source": [
    "* Решение линейной системы __$Ax=b$__:"
   ]
  },
  {
   "cell_type": "code",
   "execution_count": null,
   "metadata": {
    "colab": {
     "base_uri": "https://localhost:8080/",
     "height": 52
    },
    "colab_type": "code",
    "executionInfo": {
     "elapsed": 547,
     "status": "ok",
     "timestamp": 1537635679344,
     "user": {
      "displayName": "Даниил Акопян",
      "photoUrl": "",
      "userId": "00158003536515238452"
     },
     "user_tz": -180
    },
    "id": "zzseRnnjHLMv",
    "outputId": "687f7733-98e6-442d-f155-db758c49e57b"
   },
   "outputs": [],
   "source": [
    "x = np.linalg.solve(A, b)\n",
    "print(x)"
   ]
  },
  {
   "cell_type": "markdown",
   "metadata": {
    "colab_type": "text",
    "id": "GV6WaYJ3K06x"
   },
   "source": [
    "### Библиотека SciPy"
   ]
  },
  {
   "cell_type": "markdown",
   "metadata": {
    "colab_type": "text",
    "id": "rfbdWyb7K06x"
   },
   "source": [
    "* Оптимизация функции (нахождение минимума/максимума):"
   ]
  },
  {
   "cell_type": "code",
   "execution_count": null,
   "metadata": {
    "colab": {},
    "colab_type": "code",
    "id": "8UhGZKOEK06y"
   },
   "outputs": [],
   "source": [
    "from scipy.optimize import minimize"
   ]
  },
  {
   "cell_type": "markdown",
   "metadata": {
    "colab_type": "text",
    "id": "9adfxLQHK06y"
   },
   "source": [
    "Обязательно посмотрите документацию, сходу не очевидно, как именно использовать:"
   ]
  },
  {
   "cell_type": "code",
   "execution_count": null,
   "metadata": {
    "colab": {},
    "colab_type": "code",
    "id": "_vpG937gK06y"
   },
   "outputs": [],
   "source": [
    "?minimize"
   ]
  },
  {
   "cell_type": "markdown",
   "metadata": {
    "colab_type": "text",
    "id": "tOHJi6hZK06z"
   },
   "source": [
    "Опмтимизируем (минимизируем) простую функцию:"
   ]
  },
  {
   "cell_type": "code",
   "execution_count": null,
   "metadata": {
    "colab": {},
    "colab_type": "code",
    "id": "7cyblRsMK06z"
   },
   "outputs": [],
   "source": [
    "def f(x):\n",
    "    return x ** 2"
   ]
  },
  {
   "cell_type": "code",
   "execution_count": null,
   "metadata": {
    "colab": {
     "base_uri": "https://localhost:8080/",
     "height": 265
    },
    "colab_type": "code",
    "executionInfo": {
     "elapsed": 669,
     "status": "ok",
     "timestamp": 1537635953274,
     "user": {
      "displayName": "Даниил Акопян",
      "photoUrl": "",
      "userId": "00158003536515238452"
     },
     "user_tz": -180
    },
    "id": "jg1vmj6oyRhB",
    "outputId": "85960198-4cea-4668-d2d1-da57919d0506"
   },
   "outputs": [],
   "source": [
    "%matplotlib inline\n",
    "import matplotlib.pyplot as plt\n",
    "\n",
    "x = np.arange(-3, 3, .1)\n",
    "y = f(x)\n",
    "\n",
    "plt.plot(x,y)\n",
    "plt.show()"
   ]
  },
  {
   "cell_type": "code",
   "execution_count": null,
   "metadata": {
    "colab": {},
    "colab_type": "code",
    "id": "8AQZT2IDK060"
   },
   "outputs": [],
   "source": [
    "res = minimize(f, x0=100)"
   ]
  },
  {
   "cell_type": "code",
   "execution_count": null,
   "metadata": {
    "colab": {
     "base_uri": "https://localhost:8080/",
     "height": 191
    },
    "colab_type": "code",
    "executionInfo": {
     "elapsed": 770,
     "status": "ok",
     "timestamp": 1537636002053,
     "user": {
      "displayName": "Даниил Акопян",
      "photoUrl": "",
      "userId": "00158003536515238452"
     },
     "user_tz": -180
    },
    "id": "u5-yXZoDK060",
    "outputId": "d9776bd2-b92d-4b31-e8e9-a6a91bd013c3"
   },
   "outputs": [],
   "source": [
    "res"
   ]
  },
  {
   "cell_type": "markdown",
   "metadata": {
    "colab_type": "text",
    "id": "JPQkniL8K061"
   },
   "source": [
    "Тут нужно смотреть на 4 строчки: `fun, message, success и x`  \n",
    "`fun` - значние функции в точке минимума  \n",
    "`message` - служебное сообщение об окончании процесса (может быть \"успешно\", как здесь, или сообщение о том, что что-то пошло не так (\"не сошлось\"))  \n",
    "`success` - True, если успешно сошлось (но лучше всегда всё же смотреть и `message`)  \n",
    "`x` - точка, в которой достигается минимум"
   ]
  }
 ],
 "metadata": {
  "colab": {
   "collapsed_sections": [],
   "name": "[seminar]numpy.ipynb",
   "provenance": [],
   "version": "0.3.2"
  },
  "kernelspec": {
   "display_name": "Python 3",
   "language": "python",
   "name": "python3"
  },
  "language_info": {
   "codemirror_mode": {
    "name": "ipython",
    "version": 3
   },
   "file_extension": ".py",
   "mimetype": "text/x-python",
   "name": "python",
   "nbconvert_exporter": "python",
   "pygments_lexer": "ipython3",
   "version": "3.6.4"
  }
 },
 "nbformat": 4,
 "nbformat_minor": 1
}
